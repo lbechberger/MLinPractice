{
 "cells": [
  {
   "cell_type": "code",
   "execution_count": 7,
   "metadata": {},
   "outputs": [],
   "source": [
    "import csv, contractions\n",
    "import matplotlib.pyplot as plt\n",
    "from nltk.stem.snowball import SnowballStemmer\n",
    "import string\n",
    "import ast, nltk\n",
    "from langdetect import detect\n",
    "import pandas as pd\n",
    "from nltk import word_tokenize, corpus\n",
    "from nltk.corpus import wordnet\n",
    "from nltk.stem import WordNetLemmatizer "
   ]
  },
  {
   "cell_type": "code",
   "execution_count": null,
   "metadata": {},
   "outputs": [],
   "source": [
    "corpus.stopwords.words('english')"
   ]
  },
  {
   "cell_type": "code",
   "execution_count": 4,
   "metadata": {},
   "outputs": [],
   "source": [
    "def rename_keys(d, keys):\n",
    "    for name, pos in d.items():\n",
    "        print(name, pos)\n",
    "    return dict([(name, keys.get(pos)) for name, pos in d.items()])\n"
   ]
  },
  {
   "cell_type": "code",
   "execution_count": 3,
   "metadata": {},
   "outputs": [],
   "source": [
    "def get_wordnet_pos(tweet):\n",
    "        pos = nltk.pos_tag(tweet)\n",
    "        \n",
    "        tag_dict = {\"MD\" : \"a\", \"JJ\" : \"a\", \"JJR\" : \"a\", \"JJS\" : \"a\",\n",
    "                    \"NN\" : \"n\", \"NNS\" : \"n\", \"NNP\" : \"n\", \"NNPS\" : \"n\", \"FW\": \"n\", \"MD\" : \"n\",\n",
    "                    \"VB\" : \"v\", \"VBD\" : \"v\", \"VBG\" : \"v\", \"VBN\" : \"v\", \"VBP\" : \"v\", \"VBZ\" : \"v\",\n",
    "                    \"RB\" : \"r\", \"RBR\" : \"r\", \"RBS\" : \"r\", \"RP\" : \"r\"}\n",
    "                    \n",
    "        tmp = rename_keys(dict(pos), tag_dict)\n",
    "        return tmp"
   ]
  },
  {
   "cell_type": "code",
   "execution_count": 36,
   "metadata": {},
   "outputs": [],
   "source": [
    "lemmatizer = WordNetLemmatizer()\n",
    "lemmas = []\n",
    "for word,pos in tmp.items():\n",
    "    if pos:\n",
    "        lemmas.append(lemmatizer.lemmatize(word, pos))\n",
    "    else:\n",
    "        lemmas.append(lemmatizer.lemmatize(word))"
   ]
  },
  {
   "cell_type": "code",
   "execution_count": null,
   "metadata": {},
   "outputs": [],
   "source": [
    "tmp = get_wordnet_pos(input_text)"
   ]
  },
  {
   "cell_type": "code",
   "execution_count": 37,
   "metadata": {},
   "outputs": [
    {
     "data": {
      "text/plain": [
       "['Pour',\n",
       " 'ces',\n",
       " 'deux',\n",
       " 'causes',\n",
       " ',',\n",
       " 'à',\n",
       " 'cette',\n",
       " 'époque',\n",
       " 'de',\n",
       " 'la',\n",
       " 'vie',\n",
       " 'si',\n",
       " 'gaie',\n",
       " 'pour',\n",
       " 'les',\n",
       " 'autres',\n",
       " 'enfants',\n",
       " ',',\n",
       " 'mais',\n",
       " 'pas',\n",
       " 'pour',\n",
       " 'moi',\n",
       " ':',\n",
       " '(',\n",
       " '.']"
      ]
     },
     "execution_count": 37,
     "metadata": {},
     "output_type": "execute_result"
    }
   ],
   "source": [
    "english_stemmer = SnowballStemmer(language=\"french\")\n",
    "inpu = \"Pour ces deux causes, à cette époque de la vie si gaie pour les autres enfants, mais pas pour moi :(.\"\n",
    "tweet = word_tokenize(inpu)\n",
    "tweet"
   ]
  },
  {
   "cell_type": "code",
   "execution_count": 38,
   "metadata": {},
   "outputs": [
    {
     "data": {
      "text/plain": [
       "['pour',\n",
       " 'ce',\n",
       " 'deux',\n",
       " 'caus',\n",
       " ',',\n",
       " 'à',\n",
       " 'cet',\n",
       " 'époqu',\n",
       " 'de',\n",
       " 'la',\n",
       " 'vi',\n",
       " 'si',\n",
       " 'gai',\n",
       " 'pour',\n",
       " 'le',\n",
       " 'autr',\n",
       " 'enfant',\n",
       " ',',\n",
       " 'mais',\n",
       " 'pas',\n",
       " 'pour',\n",
       " 'moi',\n",
       " ':',\n",
       " '(',\n",
       " '.']"
      ]
     },
     "execution_count": 38,
     "metadata": {},
     "output_type": "execute_result"
    }
   ],
   "source": [
    "tweet_stemmed = [english_stemmer.stem(word) for word in tweet]\n",
    "tweet_stemmed"
   ]
  },
  {
   "cell_type": "code",
   "execution_count": 37,
   "metadata": {},
   "outputs": [
    {
     "data": {
      "text/plain": [
       "['my',\n",
       " 'uncle',\n",
       " \"'s\",\n",
       " 'cat',\n",
       " 'like',\n",
       " 'play',\n",
       " 'at',\n",
       " 'our',\n",
       " 'yard',\n",
       " 'where',\n",
       " 'there',\n",
       " 'be',\n",
       " 'many',\n",
       " 'tree',\n",
       " '.']"
      ]
     },
     "execution_count": 37,
     "metadata": {},
     "output_type": "execute_result"
    }
   ],
   "source": [
    "lemmas"
   ]
  },
  {
   "cell_type": "code",
   "execution_count": 55,
   "metadata": {},
   "outputs": [
    {
     "data": {
      "text/plain": [
       "dict_keys(['new', 'data', 'ultimately', 'help', 'scientists', 'accurately', 'project', 'fate', 'glacier', '—', 'quickly', 'melting', 'retreating', 'inland', 'far', 'might', 'complete', 'collapse', 'https', '//t.co/mfkqcplwie'])"
      ]
     },
     "execution_count": 55,
     "metadata": {},
     "output_type": "execute_result"
    }
   ],
   "source": [
    "dict(nltk.pos_tag(ast.literal_eval(df.tweet_no_stopwords[0]))).keys()"
   ]
  },
  {
   "cell_type": "code",
   "execution_count": 40,
   "metadata": {},
   "outputs": [
    {
     "data": {
      "text/plain": [
       "['it',\n",
       " \"'s\",\n",
       " 'a',\n",
       " 'sentence',\n",
       " 'with',\n",
       " 'punctuation',\n",
       " 'hashtags',\n",
       " '@mentions',\n",
       " 'question',\n",
       " 'marks',\n",
       " '^.^',\n",
       " ':)',\n",
       " '>.<']"
      ]
     },
     "execution_count": 40,
     "metadata": {},
     "output_type": "execute_result"
    }
   ],
   "source": [
    "nlp = spacy.load(\"en_core_web_sm\")\n",
    "doc = nlp(\"it's a sentence with punctuation, #hashtags, @mentions, question marks? ^.^ :) >.<\")\n",
    "tokens = [token.text for token in doc if token.text not in string.punctuation]\n",
    "tokens"
   ]
  },
  {
   "cell_type": "code",
   "execution_count": null,
   "metadata": {},
   "outputs": [],
   "source": [
    "inputs = \"I'd've been working out this week but I was busy, let's see if I'll work out at my parents' place.\"\n",
    "output = [contractions.fix(word) for word in inputs]\n",
    "output"
   ]
  },
  {
   "cell_type": "code",
   "execution_count": 39,
   "metadata": {},
   "outputs": [
    {
     "name": "stderr",
     "output_type": "stream",
     "text": [
      "/Users/farah/venv/MLinPractice/lib/python3.9/site-packages/IPython/core/interactiveshell.py:3444: DtypeWarning: Columns (22,24) have mixed types.Specify dtype option on import or set low_memory=False.\n",
      "  exec(code_obj, self.user_global_ns, self.user_ns)\n"
     ]
    }
   ],
   "source": [
    "df = pd.read_csv(\"preprocessed.csv\")\n",
    "df_labeled = pd.read_csv(\"labeled.csv\")"
   ]
  },
  {
   "cell_type": "code",
   "execution_count": 40,
   "metadata": {},
   "outputs": [
    {
     "data": {
      "text/plain": [
       "Index(['id', 'conversation_id', 'created_at', 'date', 'time', 'timezone',\n",
       "       'user_id', 'username', 'name', 'place', 'tweet', 'language', 'mentions',\n",
       "       'urls', 'photos', 'replies_count', 'retweets_count', 'likes_count',\n",
       "       'hashtags', 'cashtags', 'link', 'retweet', 'quote_url', 'video',\n",
       "       'thumbnail', 'near', 'geo', 'source', 'user_rt_id', 'user_rt',\n",
       "       'retweet_id', 'reply_to', 'retweet_date', 'translate', 'trans_src',\n",
       "       'trans_dest\\r', 'label', 'tweet_tokenized', 'tweet_no_punctuation',\n",
       "       'tweet_no_stopwords', 'stemmed'],\n",
       "      dtype='object')"
      ]
     },
     "execution_count": 40,
     "metadata": {},
     "output_type": "execute_result"
    }
   ],
   "source": [
    "df.columns"
   ]
  },
  {
   "cell_type": "code",
   "execution_count": 41,
   "metadata": {},
   "outputs": [
    {
     "data": {
      "text/plain": [
       "0         ['new', 'data', 'ultim', 'help', 'scientist', ...\n",
       "1         ['bus', 'amp', 'put', 'million', 'american', '...\n",
       "2         ['transit', 'excel', 'python', 'might', 'seem'...\n",
       "3         ['fraser', 'lewi', 'present', 'bayesian', 'dif...\n",
       "4         ['larg', 'increas', 'much', 'univers', 'larp',...\n",
       "                                ...                        \n",
       "295806    ['read', 'chart', 'war', 'polit', 'power', 'da...\n",
       "295807    ['put', 'quick', 'littl', 'rfp', 'database-dat...\n",
       "295808    ['great', 'present', 'chart', 'war', 'polit', ...\n",
       "295809    ['rt', 'also', 'check', 'data', 'visual', 'ii'...\n",
       "295810    ['new', 'data', 'visual', 'applic', 'perform',...\n",
       "Name: stemmed, Length: 295811, dtype: object"
      ]
     },
     "execution_count": 41,
     "metadata": {},
     "output_type": "execute_result"
    }
   ],
   "source": [
    "df.stemmed"
   ]
  },
  {
   "cell_type": "code",
   "execution_count": 13,
   "metadata": {},
   "outputs": [],
   "source": [
    "langs = set(df.language)"
   ]
  },
  {
   "cell_type": "code",
   "execution_count": 22,
   "metadata": {},
   "outputs": [
    {
     "data": {
      "text/plain": [
       "295811"
      ]
     },
     "execution_count": 22,
     "metadata": {},
     "output_type": "execute_result"
    }
   ],
   "source": [
    "df.language.count()"
   ]
  },
  {
   "cell_type": "code",
   "execution_count": 24,
   "metadata": {},
   "outputs": [],
   "source": [
    "en_tweets = df.language[df.language=='en'].count()"
   ]
  },
  {
   "cell_type": "code",
   "execution_count": 27,
   "metadata": {},
   "outputs": [],
   "source": [
    "ge_tweets = df.language[df.language=='de'].count()"
   ]
  },
  {
   "cell_type": "code",
   "execution_count": 34,
   "metadata": {},
   "outputs": [],
   "source": [
    "tmp = dict([(lang,df.language[df.language==lang].count()) for lang in langs])"
   ]
  },
  {
   "cell_type": "code",
   "execution_count": 47,
   "metadata": {},
   "outputs": [
    {
     "data": {
      "text/plain": [
       "3287"
      ]
     },
     "execution_count": 47,
     "metadata": {},
     "output_type": "execute_result"
    }
   ],
   "source": [
    "tmp['fr']"
   ]
  },
  {
   "cell_type": "code",
   "execution_count": 36,
   "metadata": {},
   "outputs": [],
   "source": [
    "count = [x for x in tmp]"
   ]
  },
  {
   "cell_type": "code",
   "execution_count": 43,
   "metadata": {},
   "outputs": [],
   "source": [
    "langs = sorted(tmp, key=lambda i: int(tmp[i]), reverse=True)\n",
    "count = sorted([num for lang, num in tmp.items()], reverse=True)"
   ]
  },
  {
   "cell_type": "code",
   "execution_count": 46,
   "metadata": {},
   "outputs": [
    {
     "data": {
      "text/plain": [
       "['en',\n",
       " 'es',\n",
       " 'fr',\n",
       " 'de',\n",
       " 'it',\n",
       " 'in',\n",
       " 'und',\n",
       " 'nl',\n",
       " 'pt',\n",
       " 'tl',\n",
       " 'ro',\n",
       " 'ca',\n",
       " 'ru',\n",
       " 'da',\n",
       " 'th',\n",
       " 'ar',\n",
       " 'tr',\n",
       " 'ja',\n",
       " 'no',\n",
       " 'lt',\n",
       " 'ht',\n",
       " 'sv',\n",
       " 'et',\n",
       " 'cs',\n",
       " 'pl',\n",
       " 'cy',\n",
       " 'zh',\n",
       " 'hi',\n",
       " 'fi',\n",
       " 'ta',\n",
       " 'uk',\n",
       " 'iw',\n",
       " 'hu',\n",
       " 'sl',\n",
       " 'ko',\n",
       " 'lv',\n",
       " 'te',\n",
       " 'bg',\n",
       " 'bn',\n",
       " 'el',\n",
       " 'fa',\n",
       " 'eu',\n",
       " 'sr',\n",
       " 'gu',\n",
       " 'is',\n",
       " 'ml',\n",
       " 'mr',\n",
       " 'kn',\n",
       " 'ur',\n",
       " 'hy']"
      ]
     },
     "execution_count": 46,
     "metadata": {},
     "output_type": "execute_result"
    }
   ],
   "source": [
    "langs"
   ]
  },
  {
   "cell_type": "code",
   "execution_count": 71,
   "metadata": {},
   "outputs": [
    {
     "data": {
      "text/plain": [
       "True"
      ]
     },
     "execution_count": 71,
     "metadata": {},
     "output_type": "execute_result"
    }
   ],
   "source": [
    "'ar' in langs"
   ]
  },
  {
   "cell_type": "code",
   "execution_count": 42,
   "metadata": {},
   "outputs": [
    {
     "data": {
      "text/plain": [
       "[283240,\n",
       " 3492,\n",
       " 3287,\n",
       " 811,\n",
       " 748,\n",
       " 631,\n",
       " 546,\n",
       " 396,\n",
       " 389,\n",
       " 362,\n",
       " 291,\n",
       " 244,\n",
       " 219,\n",
       " 182,\n",
       " 143,\n",
       " 109,\n",
       " 93,\n",
       " 92,\n",
       " 65,\n",
       " 64,\n",
       " 51,\n",
       " 51,\n",
       " 49,\n",
       " 49,\n",
       " 42,\n",
       " 21,\n",
       " 20,\n",
       " 18,\n",
       " 15,\n",
       " 15,\n",
       " 11,\n",
       " 8,\n",
       " 7,\n",
       " 7,\n",
       " 5,\n",
       " 4,\n",
       " 4,\n",
       " 4,\n",
       " 4,\n",
       " 3,\n",
       " 3,\n",
       " 3,\n",
       " 2,\n",
       " 2,\n",
       " 2,\n",
       " 2,\n",
       " 2,\n",
       " 1,\n",
       " 1,\n",
       " 1]"
      ]
     },
     "execution_count": 42,
     "metadata": {},
     "output_type": "execute_result"
    }
   ],
   "source": [
    "count"
   ]
  },
  {
   "cell_type": "code",
   "execution_count": 28,
   "metadata": {},
   "outputs": [
    {
     "data": {
      "text/plain": [
       "(283240, 811)"
      ]
     },
     "execution_count": 28,
     "metadata": {},
     "output_type": "execute_result"
    }
   ],
   "source": [
    "en_tweets, ge_tweets"
   ]
  },
  {
   "cell_type": "code",
   "execution_count": 50,
   "metadata": {},
   "outputs": [
    {
     "data": {
      "image/png": "[encoded data removed]",
      "text/plain": [
       "<Figure size 432x288 with 1 Axes>"
      ]
     },
     "metadata": {
      "needs_background": "light"
     },
     "output_type": "display_data"
    }
   ],
   "source": []
  },
  {
   "cell_type": "code",
   "execution_count": 62,
   "metadata": {},
   "outputs": [
    {
     "data": {
      "text/plain": [
       "<AxesSubplot:>"
      ]
     },
     "execution_count": 62,
     "metadata": {},
     "output_type": "execute_result"
    },
    {
     "data": {
      "image/png": "[encoded data removed]",
      "text/plain": [
       "<Figure size 1080x720 with 1 Axes>"
      ]
     },
     "metadata": {
      "needs_background": "light"
     },
     "output_type": "display_data"
    }
   ],
   "source": [
    "from itertools import cycle, islice\n",
    "my_colors = list(islice(cycle(['b', 'r', 'g', 'y', 'k']), None, len(df)))\n",
    "tmp = ['r', 'r', 'r', 'r', 'r', 'b', 'b', 'r', 'r', 'b', 'r', 'b', 'r', 'b', 'r', 'b', 'r', 'b', 'b', 'r', 'b', 'r']\n",
    "[tmp.append('b') for i in range(len(tmp), 47)]\n",
    "\n",
    "df[\"language\"].value_counts().plot(kind = 'bar', logy = True, figsize = (15,10), color=tmp)"
   ]
  },
  {
   "cell_type": "code",
   "execution_count": 46,
   "metadata": {},
   "outputs": [
    {
     "data": {
      "text/plain": [
       "10281     th\n",
       "12435     th\n",
       "21359     th\n",
       "22523     th\n",
       "25774     th\n",
       "          ..\n",
       "271881    th\n",
       "271912    th\n",
       "274878    th\n",
       "274884    th\n",
       "285224    th\n",
       "Name: language, Length: 143, dtype: object"
      ]
     },
     "execution_count": 46,
     "metadata": {},
     "output_type": "execute_result"
    }
   ],
   "source": [
    "df[df.language=='th'].language"
   ]
  },
  {
   "cell_type": "code",
   "execution_count": null,
   "metadata": {},
   "outputs": [],
   "source": [
    "set(df.language)"
   ]
  },
  {
   "cell_type": "code",
   "execution_count": 5,
   "metadata": {},
   "outputs": [
    {
     "ename": "FileNotFoundError",
     "evalue": "[Errno 2] No such file or directory: '~/nltk_data/corpora/stopwords/'",
     "output_type": "error",
     "traceback": [
      "\u001b[0;31m---------------------------------------------------------------------------\u001b[0m",
      "\u001b[0;31mFileNotFoundError\u001b[0m                         Traceback (most recent call last)",
      "\u001b[0;32m/var/folders/54/062pxv157md83zzypl6cr61mmh0r_v/T/ipykernel_24522/1257706929.py\u001b[0m in \u001b[0;36m<module>\u001b[0;34m\u001b[0m\n\u001b[1;32m      1\u001b[0m \u001b[0;32mimport\u001b[0m \u001b[0mos\u001b[0m\u001b[0;34m\u001b[0m\u001b[0;34m\u001b[0m\u001b[0m\n\u001b[0;32m----> 2\u001b[0;31m \u001b[0mos\u001b[0m\u001b[0;34m.\u001b[0m\u001b[0mlistdir\u001b[0m\u001b[0;34m(\u001b[0m\u001b[0;34m'~/nltk_data/corpora/stopwords/'\u001b[0m\u001b[0;34m)\u001b[0m\u001b[0;34m\u001b[0m\u001b[0;34m\u001b[0m\u001b[0m\n\u001b[0m",
      "\u001b[0;31mFileNotFoundError\u001b[0m: [Errno 2] No such file or directory: '~/nltk_data/corpora/stopwords/'"
     ]
    }
   ],
   "source": [
    "import os\n",
    "os.listdir('~/nltk_data/corpora/stopwords/')"
   ]
  },
  {
   "cell_type": "code",
   "execution_count": 48,
   "metadata": {},
   "outputs": [
    {
     "data": {
      "text/html": [
       "<div>\n",
       "<style scoped>\n",
       "    .dataframe tbody tr th:only-of-type {\n",
       "        vertical-align: middle;\n",
       "    }\n",
       "\n",
       "    .dataframe tbody tr th {\n",
       "        vertical-align: top;\n",
       "    }\n",
       "\n",
       "    .dataframe thead th {\n",
       "        text-align: right;\n",
       "    }\n",
       "</style>\n",
       "<table border=\"1\" class=\"dataframe\">\n",
       "  <thead>\n",
       "    <tr style=\"text-align: right;\">\n",
       "      <th></th>\n",
       "      <th>id</th>\n",
       "      <th>conversation_id</th>\n",
       "      <th>created_at</th>\n",
       "      <th>date</th>\n",
       "      <th>time</th>\n",
       "      <th>timezone</th>\n",
       "      <th>user_id</th>\n",
       "      <th>username</th>\n",
       "      <th>name</th>\n",
       "      <th>place</th>\n",
       "      <th>...</th>\n",
       "      <th>reply_to</th>\n",
       "      <th>retweet_date</th>\n",
       "      <th>translate</th>\n",
       "      <th>trans_src</th>\n",
       "      <th>trans_dest\\r</th>\n",
       "      <th>label</th>\n",
       "      <th>tweet_no_punctuation</th>\n",
       "      <th>tweet_tokenized</th>\n",
       "      <th>tweet_no_stopwords</th>\n",
       "      <th>lemmatized</th>\n",
       "    </tr>\n",
       "  </thead>\n",
       "  <tbody>\n",
       "    <tr>\n",
       "      <th>0</th>\n",
       "      <td>1.382118e+18</td>\n",
       "      <td>1.382118e+18</td>\n",
       "      <td>2021-04-14 05:15:01 IST</td>\n",
       "      <td>2021-04-14</td>\n",
       "      <td>05:15:01</td>\n",
       "      <td>530.0</td>\n",
       "      <td>1.940224e+07</td>\n",
       "      <td>sciencenews</td>\n",
       "      <td>Science News</td>\n",
       "      <td>NaN</td>\n",
       "      <td>...</td>\n",
       "      <td>[]</td>\n",
       "      <td>NaN</td>\n",
       "      <td>NaN</td>\n",
       "      <td>NaN</td>\n",
       "      <td>\\r</td>\n",
       "      <td>True</td>\n",
       "      <td>['these', 'new', 'data', 'will', 'ultimately',...</td>\n",
       "      <td>['these', 'new', 'data', 'will', 'ultimately',...</td>\n",
       "      <td>['new', 'data', 'ultimately', 'help', 'scienti...</td>\n",
       "      <td>['new', 'data', 'ultimately', 'help', 'scienti...</td>\n",
       "    </tr>\n",
       "    <tr>\n",
       "      <th>1</th>\n",
       "      <td>1.382111e+18</td>\n",
       "      <td>1.382110e+18</td>\n",
       "      <td>2021-04-14 04:50:19 IST</td>\n",
       "      <td>2021-04-14</td>\n",
       "      <td>04:50:19</td>\n",
       "      <td>530.0</td>\n",
       "      <td>1.255593e+18</td>\n",
       "      <td>tomzmich2020</td>\n",
       "      <td>Tom Zmich</td>\n",
       "      <td>NaN</td>\n",
       "      <td>...</td>\n",
       "      <td>[]</td>\n",
       "      <td>NaN</td>\n",
       "      <td>NaN</td>\n",
       "      <td>NaN</td>\n",
       "      <td>\\r</td>\n",
       "      <td>False</td>\n",
       "      <td>['under', 'the', 'bus', 'amp', 'put', 'million...</td>\n",
       "      <td>['under', 'the', 'bus', 'amp', 'put', 'million...</td>\n",
       "      <td>['bus', 'amp', 'put', 'millions', 'americans',...</td>\n",
       "      <td>['bus', 'amp', 'put', 'million', 'american', '...</td>\n",
       "    </tr>\n",
       "    <tr>\n",
       "      <th>2</th>\n",
       "      <td>1.382109e+18</td>\n",
       "      <td>1.382109e+18</td>\n",
       "      <td>2021-04-14 04:42:00 IST</td>\n",
       "      <td>2021-04-14</td>\n",
       "      <td>04:42:00</td>\n",
       "      <td>530.0</td>\n",
       "      <td>7.888987e+17</td>\n",
       "      <td>tdatascience</td>\n",
       "      <td>Towards Data Science</td>\n",
       "      <td>NaN</td>\n",
       "      <td>...</td>\n",
       "      <td>[]</td>\n",
       "      <td>NaN</td>\n",
       "      <td>NaN</td>\n",
       "      <td>NaN</td>\n",
       "      <td>\\r</td>\n",
       "      <td>True</td>\n",
       "      <td>['transitioning', 'from', 'excel', 'to', 'pyth...</td>\n",
       "      <td>['transitioning', 'from', 'excel', 'to', 'pyth...</td>\n",
       "      <td>['transitioning', 'excel', 'python', 'might', ...</td>\n",
       "      <td>['transition', 'excel', 'python', 'might', 'se...</td>\n",
       "    </tr>\n",
       "    <tr>\n",
       "      <th>3</th>\n",
       "      <td>1.382104e+18</td>\n",
       "      <td>1.382104e+18</td>\n",
       "      <td>2021-04-14 04:19:00 IST</td>\n",
       "      <td>2021-04-14</td>\n",
       "      <td>04:19:00</td>\n",
       "      <td>530.0</td>\n",
       "      <td>7.888987e+17</td>\n",
       "      <td>tdatascience</td>\n",
       "      <td>Towards Data Science</td>\n",
       "      <td>NaN</td>\n",
       "      <td>...</td>\n",
       "      <td>[]</td>\n",
       "      <td>NaN</td>\n",
       "      <td>NaN</td>\n",
       "      <td>NaN</td>\n",
       "      <td>\\r</td>\n",
       "      <td>False</td>\n",
       "      <td>['fraser', 'lewis', 'presents', 'bayesian', 'd...</td>\n",
       "      <td>['fraser', 'lewis', 'presents', 'bayesian', 'd...</td>\n",
       "      <td>['fraser', 'lewis', 'presents', 'bayesian', 'd...</td>\n",
       "      <td>['fraser', 'lewis', 'present', 'bayesian', 'di...</td>\n",
       "    </tr>\n",
       "    <tr>\n",
       "      <th>4</th>\n",
       "      <td>1.382101e+18</td>\n",
       "      <td>1.382101e+18</td>\n",
       "      <td>2021-04-14 04:07:23 IST</td>\n",
       "      <td>2021-04-14</td>\n",
       "      <td>04:07:23</td>\n",
       "      <td>530.0</td>\n",
       "      <td>2.595244e+09</td>\n",
       "      <td>esyudkowsky</td>\n",
       "      <td>Eliezer Yudkowsky</td>\n",
       "      <td>NaN</td>\n",
       "      <td>...</td>\n",
       "      <td>[]</td>\n",
       "      <td>NaN</td>\n",
       "      <td>NaN</td>\n",
       "      <td>NaN</td>\n",
       "      <td>\\r</td>\n",
       "      <td>False</td>\n",
       "      <td>['is', 'largely', 'to', 'increase', 'how', 'mu...</td>\n",
       "      <td>['is', 'largely', 'to', 'increase', 'how', 'mu...</td>\n",
       "      <td>['largely', 'increase', 'much', 'universal', '...</td>\n",
       "      <td>['largely', 'increase', 'much', 'universal', '...</td>\n",
       "    </tr>\n",
       "  </tbody>\n",
       "</table>\n",
       "<p>5 rows × 41 columns</p>\n",
       "</div>"
      ],
      "text/plain": [
       "             id  conversation_id               created_at        date  \\\n",
       "0  1.382118e+18     1.382118e+18  2021-04-14 05:15:01 IST  2021-04-14   \n",
       "1  1.382111e+18     1.382110e+18  2021-04-14 04:50:19 IST  2021-04-14   \n",
       "2  1.382109e+18     1.382109e+18  2021-04-14 04:42:00 IST  2021-04-14   \n",
       "3  1.382104e+18     1.382104e+18  2021-04-14 04:19:00 IST  2021-04-14   \n",
       "4  1.382101e+18     1.382101e+18  2021-04-14 04:07:23 IST  2021-04-14   \n",
       "\n",
       "       time  timezone       user_id      username                  name place  \\\n",
       "0  05:15:01     530.0  1.940224e+07   sciencenews          Science News   NaN   \n",
       "1  04:50:19     530.0  1.255593e+18  tomzmich2020             Tom Zmich   NaN   \n",
       "2  04:42:00     530.0  7.888987e+17  tdatascience  Towards Data Science   NaN   \n",
       "3  04:19:00     530.0  7.888987e+17  tdatascience  Towards Data Science   NaN   \n",
       "4  04:07:23     530.0  2.595244e+09   esyudkowsky     Eliezer Yudkowsky   NaN   \n",
       "\n",
       "   ... reply_to retweet_date translate trans_src trans_dest\\r  label  \\\n",
       "0  ...       []          NaN       NaN       NaN           \\r   True   \n",
       "1  ...       []          NaN       NaN       NaN           \\r  False   \n",
       "2  ...       []          NaN       NaN       NaN           \\r   True   \n",
       "3  ...       []          NaN       NaN       NaN           \\r  False   \n",
       "4  ...       []          NaN       NaN       NaN           \\r  False   \n",
       "\n",
       "                                tweet_no_punctuation  \\\n",
       "0  ['these', 'new', 'data', 'will', 'ultimately',...   \n",
       "1  ['under', 'the', 'bus', 'amp', 'put', 'million...   \n",
       "2  ['transitioning', 'from', 'excel', 'to', 'pyth...   \n",
       "3  ['fraser', 'lewis', 'presents', 'bayesian', 'd...   \n",
       "4  ['is', 'largely', 'to', 'increase', 'how', 'mu...   \n",
       "\n",
       "                                     tweet_tokenized  \\\n",
       "0  ['these', 'new', 'data', 'will', 'ultimately',...   \n",
       "1  ['under', 'the', 'bus', 'amp', 'put', 'million...   \n",
       "2  ['transitioning', 'from', 'excel', 'to', 'pyth...   \n",
       "3  ['fraser', 'lewis', 'presents', 'bayesian', 'd...   \n",
       "4  ['is', 'largely', 'to', 'increase', 'how', 'mu...   \n",
       "\n",
       "                                  tweet_no_stopwords  \\\n",
       "0  ['new', 'data', 'ultimately', 'help', 'scienti...   \n",
       "1  ['bus', 'amp', 'put', 'millions', 'americans',...   \n",
       "2  ['transitioning', 'excel', 'python', 'might', ...   \n",
       "3  ['fraser', 'lewis', 'presents', 'bayesian', 'd...   \n",
       "4  ['largely', 'increase', 'much', 'universal', '...   \n",
       "\n",
       "                                          lemmatized  \n",
       "0  ['new', 'data', 'ultimately', 'help', 'scienti...  \n",
       "1  ['bus', 'amp', 'put', 'million', 'american', '...  \n",
       "2  ['transition', 'excel', 'python', 'might', 'se...  \n",
       "3  ['fraser', 'lewis', 'present', 'bayesian', 'di...  \n",
       "4  ['largely', 'increase', 'much', 'universal', '...  \n",
       "\n",
       "[5 rows x 41 columns]"
      ]
     },
     "execution_count": 48,
     "metadata": {},
     "output_type": "execute_result"
    }
   ],
   "source": [
    "df.head()"
   ]
  },
  {
   "cell_type": "code",
   "execution_count": null,
   "metadata": {},
   "outputs": [],
   "source": [
    "punctuation = [x for x in string.punctuation[1:-1]]\n",
    "punctuation"
   ]
  },
  {
   "cell_type": "code",
   "execution_count": 19,
   "metadata": {},
   "outputs": [
    {
     "data": {
      "text/plain": [
       "True"
      ]
     },
     "execution_count": 19,
     "metadata": {},
     "output_type": "execute_result"
    }
   ],
   "source": [
    "word_tokenize(\"it's a sentence with punctuation hashtags mentions question marks\") == x"
   ]
  },
  {
   "cell_type": "code",
   "execution_count": 27,
   "metadata": {},
   "outputs": [
    {
     "data": {
      "text/plain": [
       "['it',\n",
       " \"'s\",\n",
       " 'a',\n",
       " 'sentence',\n",
       " 'with',\n",
       " 'punctuation',\n",
       " 'hashtags',\n",
       " 'mentions',\n",
       " 'question',\n",
       " 'marks']"
      ]
     },
     "execution_count": 27,
     "metadata": {},
     "output_type": "execute_result"
    }
   ],
   "source": [
    "x = [word for word in inputs if word not in string.punctuation]\n",
    "x"
   ]
  },
  {
   "cell_type": "code",
   "execution_count": 24,
   "metadata": {},
   "outputs": [
    {
     "data": {
      "text/plain": [
       "['it',\n",
       " \"'s\",\n",
       " 'a',\n",
       " 'sentence',\n",
       " 'with',\n",
       " 'punctuation',\n",
       " ',',\n",
       " '#',\n",
       " 'hashtags',\n",
       " ',',\n",
       " '@',\n",
       " 'mentions',\n",
       " ',',\n",
       " 'question',\n",
       " 'marks',\n",
       " '?',\n",
       " ':',\n",
       " ')',\n",
       " '*',\n",
       " '_',\n",
       " '*']"
      ]
     },
     "execution_count": 24,
     "metadata": {},
     "output_type": "execute_result"
    }
   ],
   "source": [
    "inputs = word_tokenize(\"it's a sentence with punctuation, #hashtags, @mentions, question marks? :) *_*\")\n",
    "# output = [word for word in inputs if word not in string.punctuation]\n",
    "inputs"
   ]
  },
  {
   "cell_type": "code",
   "execution_count": 28,
   "metadata": {},
   "outputs": [
    {
     "data": {
      "text/plain": [
       "True"
      ]
     },
     "execution_count": 28,
     "metadata": {},
     "output_type": "execute_result"
    }
   ],
   "source": [
    "\"?\" in string.punctuation"
   ]
  },
  {
   "cell_type": "code",
   "execution_count": 40,
   "metadata": {},
   "outputs": [
    {
     "data": {
      "text/plain": [
       "50"
      ]
     },
     "execution_count": 40,
     "metadata": {},
     "output_type": "execute_result"
    }
   ],
   "source": [
    "len(set(df.language))"
   ]
  },
  {
   "cell_type": "code",
   "execution_count": 6,
   "metadata": {},
   "outputs": [
    {
     "data": {
      "text/plain": [
       "Index(['id', 'conversation_id', 'created_at', 'date', 'time', 'timezone',\n",
       "       'user_id', 'username', 'name', 'place', 'tweet', 'language', 'mentions',\n",
       "       'urls', 'photos', 'replies_count', 'retweets_count', 'likes_count',\n",
       "       'hashtags', 'cashtags', 'link', 'retweet', 'quote_url', 'video',\n",
       "       'thumbnail', 'near', 'geo', 'source', 'user_rt_id', 'user_rt',\n",
       "       'retweet_id', 'reply_to', 'retweet_date', 'translate', 'trans_src',\n",
       "       'trans_dest\\r', 'label', 'tweet_no_punctuation', 'tweet_tokenized',\n",
       "       'tweet_no_stopwords'],\n",
       "      dtype='object')"
      ]
     },
     "execution_count": 6,
     "metadata": {},
     "output_type": "execute_result"
    }
   ],
   "source": [
    "df.columns"
   ]
  },
  {
   "cell_type": "code",
   "execution_count": 5,
   "metadata": {},
   "outputs": [
    {
     "data": {
      "text/plain": [
       "0         ['these', 'new', 'data', 'will', 'ultimately',...\n",
       "1         ['under', 'the', 'bus', 'amp', 'put', 'million...\n",
       "2         ['transitioning', 'from', 'excel', 'to', 'pyth...\n",
       "3         ['fraser', 'lewis', 'presents', 'bayesian', 'd...\n",
       "4         ['is', 'largely', 'to', 'increase', 'how', 'mu...\n",
       "                                ...                        \n",
       "295806    ['reading', 'chart', 'wars', 'the', 'political...\n",
       "295807    ['i', 'putting', 'out', 'a', 'quick', 'little'...\n",
       "295808    ['great', 'presentation', 'by', 'chart', 'wars...\n",
       "295809    ['rt', 'u', 'should', 'also', 'check', 'out', ...\n",
       "295810    ['new', 'data', 'visualization', 'application'...\n",
       "Name: tweet_no_punctuation, Length: 295811, dtype: object"
      ]
     },
     "execution_count": 5,
     "metadata": {},
     "output_type": "execute_result"
    }
   ],
   "source": [
    "df.tweet_no_punctuation"
   ]
  },
  {
   "cell_type": "code",
   "execution_count": 14,
   "metadata": {},
   "outputs": [
    {
     "data": {
      "text/plain": [
       "0         ['these', 'new', 'data', 'will', 'ultimately',...\n",
       "1         ['under', 'the', 'bus', 'amp', 'put', 'million...\n",
       "2         ['transitioning', 'from', 'excel', 'to', 'pyth...\n",
       "3         ['fraser', 'lewis', 'presents', 'bayesian', 'd...\n",
       "4         ['is', 'largely', 'to', 'increase', 'how', 'mu...\n",
       "                                ...                        \n",
       "295806    ['reading', 'chart', 'wars', 'the', 'political...\n",
       "295807    ['i', 'putting', 'out', 'a', 'quick', 'little'...\n",
       "295808    ['great', 'presentation', 'by', 'chart', 'wars...\n",
       "295809    ['rt', 'u', 'should', 'also', 'check', 'out', ...\n",
       "295810    ['new', 'data', 'visualization', 'application'...\n",
       "Name: tweet_tokenized, Length: 295811, dtype: object"
      ]
     },
     "execution_count": 14,
     "metadata": {},
     "output_type": "execute_result"
    }
   ],
   "source": [
    "df.tweet_tokenized"
   ]
  },
  {
   "cell_type": "code",
   "execution_count": 6,
   "metadata": {},
   "outputs": [
    {
     "data": {
      "text/plain": [
       "0         ['new', 'data', 'ultimately', 'help', 'scienti...\n",
       "1         ['bus', 'amp', 'put', 'millions', 'americans',...\n",
       "2         ['transitioning', 'excel', 'python', 'might', ...\n",
       "3         ['fraser', 'lewis', 'presents', 'bayesian', 'd...\n",
       "4         ['...', 'largely', 'increase', 'much', 'univer...\n",
       "                                ...                        \n",
       "295806    ['reading', 'chart', 'wars', 'political', 'pow...\n",
       "295807    [\"'m\", 'putting', 'quick', 'little', 'rfp', 'd...\n",
       "295808    ['great', 'presentation', 'alexlundry', 'chart...\n",
       "295809    ['rt', 'briandevine', 'also', 'check', 'data',...\n",
       "295810    ['new', 'data', 'visualization', 'application'...\n",
       "Name: tweet_no_stopwords, Length: 295811, dtype: object"
      ]
     },
     "execution_count": 6,
     "metadata": {},
     "output_type": "execute_result"
    }
   ],
   "source": [
    "df.tweet_no_stopwords"
   ]
  },
  {
   "cell_type": "code",
   "execution_count": 65,
   "metadata": {},
   "outputs": [
    {
     "data": {
      "text/plain": [
       "\"['these', 'new', 'data', 'will', 'ultimately', 'help', 'scientists', 'more', 'accurately', 'project', 'the', 'fate', 'of', 'the', 'glacier', '—', 'how', 'quickly', 'it', 'is', 'melting', 'and', 'retreating', 'inland', 'and', 'how', 'far', 'it', 'might', 'be', 'from', 'complete', 'collapse', 'https', '//t.co/mfkqcplwie']\""
      ]
     },
     "execution_count": 65,
     "metadata": {},
     "output_type": "execute_result"
    }
   ],
   "source": [
    "df.tweet_no_punctuation[0]"
   ]
  },
  {
   "cell_type": "code",
   "execution_count": 11,
   "metadata": {},
   "outputs": [
    {
     "data": {
      "text/plain": [
       "(50, 295811)"
      ]
     },
     "execution_count": 11,
     "metadata": {},
     "output_type": "execute_result"
    }
   ],
   "source": [
    "len(set(df.language)), len(df.language)"
   ]
  },
  {
   "cell_type": "code",
   "execution_count": 77,
   "metadata": {},
   "outputs": [
    {
     "data": {
      "text/plain": [
       "'Im putting out a quick little RFP for some databasedatavisualizationapp developement work Who in Austin have I not thought of think'"
      ]
     },
     "execution_count": 77,
     "metadata": {},
     "output_type": "execute_result"
    }
   ],
   "source": [
    "df.tweet_no_punctuation[295807]"
   ]
  },
  {
   "cell_type": "code",
   "execution_count": 87,
   "metadata": {},
   "outputs": [
    {
     "data": {
      "text/plain": [
       "'Congrats, @quantifind on raising $22 million! The #NSFfunded company uses “data science to help automate financial crimes investigations.”  https://t.co/0cnwAQ6iow'"
      ]
     },
     "execution_count": 87,
     "metadata": {},
     "output_type": "execute_result"
    }
   ],
   "source": [
    "df_labeled.tweet[8433]"
   ]
  },
  {
   "cell_type": "code",
   "execution_count": 31,
   "metadata": {},
   "outputs": [
    {
     "ename": "AttributeError",
     "evalue": "'DataFrame' object has no attribute 'column'",
     "output_type": "error",
     "traceback": [
      "\u001b[0;31m---------------------------------------------------------------------------\u001b[0m",
      "\u001b[0;31mAttributeError\u001b[0m                            Traceback (most recent call last)",
      "\u001b[0;32m/var/folders/54/062pxv157md83zzypl6cr61mmh0r_v/T/ipykernel_20548/1071123522.py\u001b[0m in \u001b[0;36m<module>\u001b[0;34m\u001b[0m\n\u001b[0;32m----> 1\u001b[0;31m \u001b[0mdf\u001b[0m\u001b[0;34m.\u001b[0m\u001b[0mcolumn\u001b[0m\u001b[0;34m\u001b[0m\u001b[0;34m\u001b[0m\u001b[0m\n\u001b[0m",
      "\u001b[0;32m~/venv/MLinPractice/lib/python3.9/site-packages/pandas/core/generic.py\u001b[0m in \u001b[0;36m__getattr__\u001b[0;34m(self, name)\u001b[0m\n\u001b[1;32m   5485\u001b[0m         ):\n\u001b[1;32m   5486\u001b[0m             \u001b[0;32mreturn\u001b[0m \u001b[0mself\u001b[0m\u001b[0;34m[\u001b[0m\u001b[0mname\u001b[0m\u001b[0;34m]\u001b[0m\u001b[0;34m\u001b[0m\u001b[0;34m\u001b[0m\u001b[0m\n\u001b[0;32m-> 5487\u001b[0;31m         \u001b[0;32mreturn\u001b[0m \u001b[0mobject\u001b[0m\u001b[0;34m.\u001b[0m\u001b[0m__getattribute__\u001b[0m\u001b[0;34m(\u001b[0m\u001b[0mself\u001b[0m\u001b[0;34m,\u001b[0m \u001b[0mname\u001b[0m\u001b[0;34m)\u001b[0m\u001b[0;34m\u001b[0m\u001b[0;34m\u001b[0m\u001b[0m\n\u001b[0m\u001b[1;32m   5488\u001b[0m \u001b[0;34m\u001b[0m\u001b[0m\n\u001b[1;32m   5489\u001b[0m     \u001b[0;32mdef\u001b[0m \u001b[0m__setattr__\u001b[0m\u001b[0;34m(\u001b[0m\u001b[0mself\u001b[0m\u001b[0;34m,\u001b[0m \u001b[0mname\u001b[0m\u001b[0;34m:\u001b[0m \u001b[0mstr\u001b[0m\u001b[0;34m,\u001b[0m \u001b[0mvalue\u001b[0m\u001b[0;34m)\u001b[0m \u001b[0;34m->\u001b[0m \u001b[0;32mNone\u001b[0m\u001b[0;34m:\u001b[0m\u001b[0;34m\u001b[0m\u001b[0;34m\u001b[0m\u001b[0m\n",
      "\u001b[0;31mAttributeError\u001b[0m: 'DataFrame' object has no attribute 'column'"
     ]
    }
   ],
   "source": [
    "df.column"
   ]
  },
  {
   "cell_type": "code",
   "execution_count": null,
   "metadata": {},
   "outputs": [],
   "source": []
  },
  {
   "cell_type": "code",
   "execution_count": 88,
   "metadata": {},
   "outputs": [
    {
     "data": {
      "text/plain": [
       "\"[{'screen_name': 'quantifind', 'name': 'quantifind', 'id': '179275414'}]\""
      ]
     },
     "execution_count": 88,
     "metadata": {},
     "output_type": "execute_result"
    }
   ],
   "source": [
    "df_labeled.mentions[8433]"
   ]
  },
  {
   "cell_type": "code",
   "execution_count": null,
   "metadata": {},
   "outputs": [],
   "source": []
  }
 ],
 "metadata": {
  "interpreter": {
   "hash": "229c6c7b61c4fe1ec056b4228f61e28c4721c65c66a25d88e842a92b55ce0a92"
  },
  "kernelspec": {
   "display_name": "Python 3.9.7 64-bit ('MLinPractice': venv)",
   "name": "python3"
  },
  "language_info": {
   "codemirror_mode": {
    "name": "ipython",
    "version": 3
   },
   "file_extension": ".py",
   "mimetype": "text/x-python",
   "name": "python",
   "nbconvert_exporter": "python",
   "pygments_lexer": "ipython3",
   "version": "3.9.7"
  },
  "orig_nbformat": 4
 },
 "nbformat": 4,
 "nbformat_minor": 2
}
